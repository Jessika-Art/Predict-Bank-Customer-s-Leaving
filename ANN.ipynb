{
 "cells": [
  {
   "cell_type": "code",
   "execution_count": null,
   "metadata": {},
   "outputs": [],
   "source": [
    "''' Artificial Neural Networks ANN '''"
   ]
  },
  {
   "cell_type": "code",
   "execution_count": 31,
   "metadata": {},
   "outputs": [],
   "source": [
    "''' I M P O R T   L I B R A R I E S '''\n",
    "import numpy as np\n",
    "import pandas as pd\n",
    "import matplotlib.pyplot as plt\n",
    "import tensorflow as tf"
   ]
  },
  {
   "cell_type": "code",
   "execution_count": 32,
   "metadata": {},
   "outputs": [
    {
     "data": {
      "text/plain": [
       "'2.9.1'"
      ]
     },
     "execution_count": 32,
     "metadata": {},
     "output_type": "execute_result"
    }
   ],
   "source": [
    "tf.__version__"
   ]
  },
  {
   "cell_type": "code",
   "execution_count": 46,
   "metadata": {},
   "outputs": [
    {
     "data": {
      "text/html": [
       "<div>\n",
       "<style scoped>\n",
       "    .dataframe tbody tr th:only-of-type {\n",
       "        vertical-align: middle;\n",
       "    }\n",
       "\n",
       "    .dataframe tbody tr th {\n",
       "        vertical-align: top;\n",
       "    }\n",
       "\n",
       "    .dataframe thead th {\n",
       "        text-align: right;\n",
       "    }\n",
       "</style>\n",
       "<table border=\"1\" class=\"dataframe\">\n",
       "  <thead>\n",
       "    <tr style=\"text-align: right;\">\n",
       "      <th></th>\n",
       "      <th>RowNumber</th>\n",
       "      <th>CustomerId</th>\n",
       "      <th>Surname</th>\n",
       "      <th>CreditScore</th>\n",
       "      <th>Geography</th>\n",
       "      <th>Gender</th>\n",
       "      <th>Age</th>\n",
       "      <th>Tenure</th>\n",
       "      <th>Balance</th>\n",
       "      <th>NumOfProducts</th>\n",
       "      <th>HasCrCard</th>\n",
       "      <th>IsActiveMember</th>\n",
       "      <th>EstimatedSalary</th>\n",
       "      <th>Exited</th>\n",
       "    </tr>\n",
       "  </thead>\n",
       "  <tbody>\n",
       "    <tr>\n",
       "      <th>0</th>\n",
       "      <td>1</td>\n",
       "      <td>15634602</td>\n",
       "      <td>Hargrave</td>\n",
       "      <td>619</td>\n",
       "      <td>France</td>\n",
       "      <td>Female</td>\n",
       "      <td>42</td>\n",
       "      <td>2</td>\n",
       "      <td>0.00</td>\n",
       "      <td>1</td>\n",
       "      <td>1</td>\n",
       "      <td>1</td>\n",
       "      <td>101348.88</td>\n",
       "      <td>1</td>\n",
       "    </tr>\n",
       "    <tr>\n",
       "      <th>1</th>\n",
       "      <td>2</td>\n",
       "      <td>15647311</td>\n",
       "      <td>Hill</td>\n",
       "      <td>608</td>\n",
       "      <td>Spain</td>\n",
       "      <td>Female</td>\n",
       "      <td>41</td>\n",
       "      <td>1</td>\n",
       "      <td>83807.86</td>\n",
       "      <td>1</td>\n",
       "      <td>0</td>\n",
       "      <td>1</td>\n",
       "      <td>112542.58</td>\n",
       "      <td>0</td>\n",
       "    </tr>\n",
       "    <tr>\n",
       "      <th>2</th>\n",
       "      <td>3</td>\n",
       "      <td>15619304</td>\n",
       "      <td>Onio</td>\n",
       "      <td>502</td>\n",
       "      <td>France</td>\n",
       "      <td>Female</td>\n",
       "      <td>42</td>\n",
       "      <td>8</td>\n",
       "      <td>159660.80</td>\n",
       "      <td>3</td>\n",
       "      <td>1</td>\n",
       "      <td>0</td>\n",
       "      <td>113931.57</td>\n",
       "      <td>1</td>\n",
       "    </tr>\n",
       "    <tr>\n",
       "      <th>3</th>\n",
       "      <td>4</td>\n",
       "      <td>15701354</td>\n",
       "      <td>Boni</td>\n",
       "      <td>699</td>\n",
       "      <td>France</td>\n",
       "      <td>Female</td>\n",
       "      <td>39</td>\n",
       "      <td>1</td>\n",
       "      <td>0.00</td>\n",
       "      <td>2</td>\n",
       "      <td>0</td>\n",
       "      <td>0</td>\n",
       "      <td>93826.63</td>\n",
       "      <td>0</td>\n",
       "    </tr>\n",
       "    <tr>\n",
       "      <th>4</th>\n",
       "      <td>5</td>\n",
       "      <td>15737888</td>\n",
       "      <td>Mitchell</td>\n",
       "      <td>850</td>\n",
       "      <td>Spain</td>\n",
       "      <td>Female</td>\n",
       "      <td>43</td>\n",
       "      <td>2</td>\n",
       "      <td>125510.82</td>\n",
       "      <td>1</td>\n",
       "      <td>1</td>\n",
       "      <td>1</td>\n",
       "      <td>79084.10</td>\n",
       "      <td>0</td>\n",
       "    </tr>\n",
       "  </tbody>\n",
       "</table>\n",
       "</div>"
      ],
      "text/plain": [
       "   RowNumber  CustomerId   Surname  CreditScore Geography  Gender  Age  \\\n",
       "0          1    15634602  Hargrave          619    France  Female   42   \n",
       "1          2    15647311      Hill          608     Spain  Female   41   \n",
       "2          3    15619304      Onio          502    France  Female   42   \n",
       "3          4    15701354      Boni          699    France  Female   39   \n",
       "4          5    15737888  Mitchell          850     Spain  Female   43   \n",
       "\n",
       "   Tenure    Balance  NumOfProducts  HasCrCard  IsActiveMember  \\\n",
       "0       2       0.00              1          1               1   \n",
       "1       1   83807.86              1          0               1   \n",
       "2       8  159660.80              3          1               0   \n",
       "3       1       0.00              2          0               0   \n",
       "4       2  125510.82              1          1               1   \n",
       "\n",
       "   EstimatedSalary  Exited  \n",
       "0        101348.88       1  \n",
       "1        112542.58       0  \n",
       "2        113931.57       1  \n",
       "3         93826.63       0  \n",
       "4         79084.10       0  "
      ]
     },
     "execution_count": 46,
     "metadata": {},
     "output_type": "execute_result"
    }
   ],
   "source": [
    "''' I M P O R T I N G   D A T A S E T '''\n",
    "dataset = pd.read_csv('Churn_Modelling.csv')\n",
    "x = dataset.iloc[:, 3:-1].values    \n",
    "y = dataset.iloc[:, -1].values    \n",
    "dataset.head()"
   ]
  },
  {
   "cell_type": "code",
   "execution_count": 47,
   "metadata": {},
   "outputs": [
    {
     "name": "stdout",
     "output_type": "stream",
     "text": [
      "[[619 'France' 0 ... 1 1 101348.88]\n",
      " [608 'Spain' 0 ... 0 1 112542.58]\n",
      " [502 'France' 0 ... 1 0 113931.57]\n",
      " ...\n",
      " [709 'France' 0 ... 0 1 42085.58]\n",
      " [772 'Germany' 1 ... 1 0 92888.52]\n",
      " [792 'France' 0 ... 1 0 38190.78]]\n"
     ]
    }
   ],
   "source": [
    "''' E N C O D I N G   C A T E G O R I A L   D A T A '''\n",
    "from sklearn.preprocessing import LabelEncoder  # repleace 2 types of data to 0 and 1\n",
    "le = LabelEncoder()                             # initialize the encoding\n",
    "x[:, 2] = le.fit_transform(x[:, 2])             \n",
    "x"
   ]
  },
  {
   "cell_type": "code",
   "execution_count": 35,
   "metadata": {},
   "outputs": [
    {
     "data": {
      "text/plain": [
       "array([[1.0, 0.0, 0.0, ..., 1, 1, 101348.88],\n",
       "       [0.0, 0.0, 1.0, ..., 0, 1, 112542.58],\n",
       "       [1.0, 0.0, 0.0, ..., 1, 0, 113931.57],\n",
       "       ...,\n",
       "       [1.0, 0.0, 0.0, ..., 0, 1, 42085.58],\n",
       "       [0.0, 1.0, 0.0, ..., 1, 0, 92888.52],\n",
       "       [1.0, 0.0, 0.0, ..., 1, 0, 38190.78]], dtype=object)"
      ]
     },
     "execution_count": 35,
     "metadata": {},
     "output_type": "execute_result"
    }
   ],
   "source": [
    "from sklearn.compose import ColumnTransformer                                                       \n",
    "from sklearn.preprocessing import OneHotEncoder                                                     \n",
    "ct = ColumnTransformer(transformers=[('encoder', OneHotEncoder(), [1])], remainder='passthrough')   # all default but the [1] is the column index so the 2nd column\n",
    "x = np.array(ct.fit_transform(x))    \n",
    "x                                                             "
   ]
  },
  {
   "cell_type": "code",
   "execution_count": 36,
   "metadata": {},
   "outputs": [],
   "source": [
    "# splitting the dataset into a training set to test\n",
    "from sklearn.model_selection import train_test_split\n",
    "X_train, X_test, Y_train, Y_test = train_test_split(x, y, test_size = 0.2, random_state = 0)"
   ]
  },
  {
   "cell_type": "code",
   "execution_count": 37,
   "metadata": {},
   "outputs": [],
   "source": [
    "# feature scalling\n",
    "from sklearn.preprocessing import StandardScaler\n",
    "sc = StandardScaler()\n",
    "X_train = sc.fit_transform(X_train)\n",
    "X_test = sc.transform(X_test)"
   ]
  },
  {
   "cell_type": "code",
   "execution_count": 38,
   "metadata": {},
   "outputs": [],
   "source": [
    "''' B U I L D I N G   A N N '''\n",
    "# initialize the ANN\n",
    "ann = tf.keras.models.Sequential()"
   ]
  },
  {
   "cell_type": "code",
   "execution_count": 39,
   "metadata": {},
   "outputs": [],
   "source": [
    "# add a hinned layer\n",
    "ann.add(tf.keras.layers.Dense(units=5, activation='relu'))"
   ]
  },
  {
   "cell_type": "code",
   "execution_count": 40,
   "metadata": {},
   "outputs": [],
   "source": [
    "# add a second hinned layer\n",
    "ann.add(tf.keras.layers.Dense(units=5, activation='relu'))"
   ]
  },
  {
   "cell_type": "code",
   "execution_count": 41,
   "metadata": {},
   "outputs": [],
   "source": [
    "# add the output layer\n",
    "ann.add(tf.keras.layers.Dense(units=1, activation='sigmoid'))"
   ]
  },
  {
   "cell_type": "code",
   "execution_count": 42,
   "metadata": {},
   "outputs": [],
   "source": [
    "''' T R A I N I N G   T H E   A N N  '''\n",
    "# compiling\n",
    "ann.compile(optimizer = 'adam', loss = 'binary_crossentropy', metrics = ['accuracy'])"
   ]
  },
  {
   "cell_type": "code",
   "execution_count": 43,
   "metadata": {},
   "outputs": [
    {
     "name": "stdout",
     "output_type": "stream",
     "text": [
      "Epoch 1/25\n",
      "250/250 [==============================] - 6s 6ms/step - loss: 0.5804 - accuracy: 0.7751\n",
      "Epoch 2/25\n",
      "250/250 [==============================] - 1s 5ms/step - loss: 0.4935 - accuracy: 0.7985\n",
      "Epoch 3/25\n",
      "250/250 [==============================] - 1s 4ms/step - loss: 0.4585 - accuracy: 0.8071\n",
      "Epoch 4/25\n",
      "250/250 [==============================] - 1s 5ms/step - loss: 0.4432 - accuracy: 0.8073\n",
      "Epoch 5/25\n",
      "250/250 [==============================] - 1s 5ms/step - loss: 0.4360 - accuracy: 0.8065\n",
      "Epoch 6/25\n",
      "250/250 [==============================] - 1s 5ms/step - loss: 0.4302 - accuracy: 0.8109\n",
      "Epoch 7/25\n",
      "250/250 [==============================] - 1s 6ms/step - loss: 0.4239 - accuracy: 0.8156\n",
      "Epoch 8/25\n",
      "250/250 [==============================] - 1s 6ms/step - loss: 0.4175 - accuracy: 0.8202\n",
      "Epoch 9/25\n",
      "250/250 [==============================] - 1s 5ms/step - loss: 0.4081 - accuracy: 0.8260\n",
      "Epoch 10/25\n",
      "250/250 [==============================] - 1s 5ms/step - loss: 0.3940 - accuracy: 0.8338\n",
      "Epoch 11/25\n",
      "250/250 [==============================] - 1s 6ms/step - loss: 0.3824 - accuracy: 0.8401\n",
      "Epoch 12/25\n",
      "250/250 [==============================] - 1s 5ms/step - loss: 0.3740 - accuracy: 0.8443\n",
      "Epoch 13/25\n",
      "250/250 [==============================] - 1s 5ms/step - loss: 0.3672 - accuracy: 0.8486\n",
      "Epoch 14/25\n",
      "250/250 [==============================] - 2s 6ms/step - loss: 0.3622 - accuracy: 0.8495\n",
      "Epoch 15/25\n",
      "250/250 [==============================] - 1s 5ms/step - loss: 0.3584 - accuracy: 0.8496\n",
      "Epoch 16/25\n",
      "250/250 [==============================] - 1s 5ms/step - loss: 0.3561 - accuracy: 0.8524\n",
      "Epoch 17/25\n",
      "250/250 [==============================] - 1s 6ms/step - loss: 0.3541 - accuracy: 0.8528\n",
      "Epoch 18/25\n",
      "250/250 [==============================] - 1s 5ms/step - loss: 0.3529 - accuracy: 0.8543\n",
      "Epoch 19/25\n",
      "250/250 [==============================] - 1s 6ms/step - loss: 0.3516 - accuracy: 0.8533\n",
      "Epoch 20/25\n",
      "250/250 [==============================] - 2s 6ms/step - loss: 0.3504 - accuracy: 0.8556\n",
      "Epoch 21/25\n",
      "250/250 [==============================] - 1s 5ms/step - loss: 0.3494 - accuracy: 0.8558\n",
      "Epoch 22/25\n",
      "250/250 [==============================] - 1s 6ms/step - loss: 0.3482 - accuracy: 0.8551\n",
      "Epoch 23/25\n",
      "250/250 [==============================] - 1s 5ms/step - loss: 0.3473 - accuracy: 0.8572\n",
      "Epoch 24/25\n",
      "250/250 [==============================] - 1s 5ms/step - loss: 0.3466 - accuracy: 0.8569\n",
      "Epoch 25/25\n",
      "250/250 [==============================] - 1s 6ms/step - loss: 0.3454 - accuracy: 0.8574\n"
     ]
    },
    {
     "data": {
      "text/plain": [
       "<keras.callbacks.History at 0x20c6dedd6f0>"
      ]
     },
     "execution_count": 43,
     "metadata": {},
     "output_type": "execute_result"
    }
   ],
   "source": [
    "# training the ANN on the training set\n",
    "ann.fit(X_train, Y_train, batch_size=32, epochs=25)"
   ]
  },
  {
   "cell_type": "code",
   "execution_count": null,
   "metadata": {},
   "outputs": [],
   "source": [
    "''' Now that the model is built, trained and tested, its time to check if the customer\n",
    "    Jhon White he's going to leave the Bank.\n",
    "    We now this information about him:\n",
    "\n",
    "    Geography: France\n",
    "    Credit Score: 600\n",
    "    Gender: Male\n",
    "    Age: 40\n",
    "    Tenure: 3 years\n",
    "    Balance: $ 60000\n",
    "    Products: 2\n",
    "    Does own a credit card? Yes\n",
    "    Is an Active Member? Yes\n",
    "    Estimated salary: $ 50000\n",
    "\n",
    "    Let's see if Jhon is going to stay or leave teh bank.\n",
    "     '''"
   ]
  },
  {
   "cell_type": "code",
   "execution_count": 53,
   "metadata": {},
   "outputs": [
    {
     "name": "stdout",
     "output_type": "stream",
     "text": [
      "1/1 [==============================] - 0s 79ms/step\n"
     ]
    },
    {
     "data": {
      "text/plain": [
       "array([[0.037297]], dtype=float32)"
      ]
     },
     "execution_count": 53,
     "metadata": {},
     "output_type": "execute_result"
    }
   ],
   "source": [
    "ann.predict(sc.transform([[1, 0, 0, 600, 1, 40, 3, 60000, 2, 1, 1, 50000]]))"
   ]
  },
  {
   "cell_type": "code",
   "execution_count": null,
   "metadata": {},
   "outputs": [],
   "source": []
  }
 ],
 "metadata": {
  "kernelspec": {
   "display_name": "Python 3.10.4 ('env': venv)",
   "language": "python",
   "name": "python3"
  },
  "language_info": {
   "codemirror_mode": {
    "name": "ipython",
    "version": 3
   },
   "file_extension": ".py",
   "mimetype": "text/x-python",
   "name": "python",
   "nbconvert_exporter": "python",
   "pygments_lexer": "ipython3",
   "version": "3.10.4"
  },
  "orig_nbformat": 4,
  "vscode": {
   "interpreter": {
    "hash": "ae7c9c0bd300a070c27d6cdfa2598de3fb857044429fc9dc52aa73fa2c81bfae"
   }
  }
 },
 "nbformat": 4,
 "nbformat_minor": 2
}
